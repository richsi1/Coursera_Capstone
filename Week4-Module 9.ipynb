{
 "cells": [
  {
   "cell_type": "markdown",
   "metadata": {},
   "source": [
    "# Healthy Life with Fruit Juice"
   ]
  },
  {
   "cell_type": "markdown",
   "metadata": {},
   "source": [
    "## Background\n",
    "\n",
    "Healthy life is gaining popularity in Singapore. Consumption on organic ingredients and fruits have been increasing for the past few years. Looking at the trend, Jane, a self-made woman with astute business sense, would like to open a juice bar in busy business districts as healthy living trend is very much appreciated by the young and working set of population. \n",
    "\n",
    "Jane has to identify the right location for her juice bar by taking into consideration the following factors:\n",
    " - crowd\n",
    " - price\n",
    " - menu\n",
    " - popularity\n",
    " - business hours\n",
    " - peak hours\n",
    " ***"
   ]
  },
  {
   "cell_type": "markdown",
   "metadata": {},
   "source": [
    "## Data Description\n",
    "Jane has identified several reference points scattered across Singapore. The reference points above are selected for the crowds and hence potential customers. The reference points are:\n",
    "\n",
    "North: Causeway Point (Postal Code: 738099)  \n",
    "South: Vivocity (Postal Code: 098585)  \n",
    "West: International Business Park (IBP) (Postal Code: 609930)  \n",
    "East: Changi Business Park (Postal Code: 486026)  \n",
    "Central: Raffles Place (Postal Code: 048623)  \n",
    "\n",
    "The postal codes are taken from https://www.singpost.com/find-postal-code by inputting the landmarks above.\n",
    "\n",
    "Coordinate points are derived using geopy package in Python.\n",
    "\n",
    "Details of the existing juice bars can be found using Foursqure API with keyword \"juice\" for the postal codes above. Foursquare will provide us with general information such as:\n",
    " - name of venues\n",
    " - business hours\n",
    " - menu\n",
    " - likes\n",
    " - peak hours\n",
    " - etc.\n",
    " \n",
    "Further information is available at https://developer.foursquare.com/docs/api-reference/venues/details/\n",
    "\n",
    "The dataset collected from Foursquare will then be merged for analysis. The dataset will contain information such as id,\tname, categories, referralId, location.address, location.crossStreet, latitude, longitude, city, country, etc.\n",
    "***"
   ]
  },
  {
   "cell_type": "markdown",
   "metadata": {},
   "source": [
    "## Methodology\n",
    "\n",
    "Steps to follow:\n",
    "1. Identify coordinate points of each reference point given the postal code by using geopy package in Python;\n",
    "2. Collect general information such as business hours, menu, likes, etc. using Foursquare given the coordinate points obtained in step 1;\n",
    "3. Merge all datasets (North, South, East, West, Central) into one dataframe;\n",
    "4. Explore and analyse the unified dataframe;\n",
    "***"
   ]
  }
 ],
 "metadata": {
  "kernelspec": {
   "display_name": "Python 3",
   "language": "python",
   "name": "python3"
  },
  "language_info": {
   "codemirror_mode": {
    "name": "ipython",
    "version": 3
   },
   "file_extension": ".py",
   "mimetype": "text/x-python",
   "name": "python",
   "nbconvert_exporter": "python",
   "pygments_lexer": "ipython3",
   "version": "3.8.2"
  }
 },
 "nbformat": 4,
 "nbformat_minor": 4
}
